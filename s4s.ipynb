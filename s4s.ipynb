{
 "cells": [
  {
   "cell_type": "code",
   "execution_count": null,
   "metadata": {
    "scrolled": true
   },
   "outputs": [],
   "source": [
    "# special IPython command to prepare the notebook for matplotlib\n",
    "%matplotlib inline \n",
    "\n",
    "from get_csv_files import get_zipped_csv_files\n",
    "import wins_and_salaries_graph as wsg\n",
    "import pandas\n",
    "\n",
    "# Problem 1(a)\n",
    "csv_files = ['Salaries.csv', 'Teams.csv']\n",
    "\n",
    "get_zipped_csv_files(csv_files=csv_files)\n",
    "\n",
    "salary_data = pandas.read_csv('Salaries.csv') \n",
    "teams_data = pandas.read_csv('Teams.csv')\n",
    "\n",
    "salary_data.head()\n",
    "teams_data.head()\n",
    "\n",
    "# Problem 1(b)\n",
    "salary_totals = salary_data.groupby(['yearID', 'teamID'])['salary'].sum()\n",
    "salary_totals.head()\n",
    "\n",
    "# Problem 1(c)\n",
    "wins_and_salaries = pandas.merge(salary_totals, teams_data[['yearID', 'teamID', 'W']], on=['yearID', 'teamID'], how='inner')\n",
    "wins_and_salaries.head()\n",
    "\n",
    "#  Problem 1(d).  To display the relationship between total wins and total salaries for a given year,\n",
    "#  I would use two different axes that share the same x axis.  Since wins and salaries share the year range (x-axis),\n",
    "#  I can plot the second series (total salaries) against the secondary Y axis on the right side of the graph.\n",
    "\n",
    "START_YEAR = 2000\n",
    "END_YEAR = 2010\n",
    "TEAMS = ['CHA', 'NYN', 'OAK']\n",
    "\n",
    "wsg.graph_dual_y(wins_and_salaries, 'OAK', START_YEAR, END_YEAR)\n",
    "\n",
    "wsg.graph_boxplots(wins_and_salaries, TEAMS, START_YEAR, END_YEAR)\n",
    "\n",
    "wsg.graph_xy_line(wins_and_salaries, 'OAK', 'wins', START_YEAR, END_YEAR)\n",
    "wsg.graph_xy_line(wins_and_salaries, 'OAK', 'SALARIES', START_YEAR, END_YEAR)\n",
    "\n",
    "#  As seen in the xy scatter chart of total salaries vs wins, over 2000 to 2010, when the total salaries\n",
    "#  for the Oakland A's were at their highest, the wins were at their lowest.  The highest total wins occurred in 2002,\n",
    "#  yet their total salaries were not at their highest. Also, as total salaries rose, their wins decreased between 2002\n",
    "#  and 2005.  Could this mean, that if the total salaries \n",
    "#wsg.xy_scatter_3_teams(wins_and_salaries, ['OAK'], START_YEAR, END_YEAR)\n",
    "wsg.xy_scatter_3_teams(wins_and_salaries, TEAMS, START_YEAR, END_YEAR)"
   ]
  },
  {
   "cell_type": "code",
   "execution_count": null,
   "metadata": {},
   "outputs": [],
   "source": []
  }
 ],
 "metadata": {
  "kernelspec": {
   "display_name": "Python 3",
   "language": "python",
   "name": "python3"
  },
  "language_info": {
   "codemirror_mode": {
    "name": "ipython",
    "version": 3
   },
   "file_extension": ".py",
   "mimetype": "text/x-python",
   "name": "python",
   "nbconvert_exporter": "python",
   "pygments_lexer": "ipython3",
   "version": "3.6.4"
  }
 },
 "nbformat": 4,
 "nbformat_minor": 2
}
